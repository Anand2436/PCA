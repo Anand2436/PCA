{
 "cells": [
  {
   "cell_type": "markdown",
   "metadata": {},
   "source": [
    "# It is always a trade off between getting good speed vs retaining most of the variance(info)\n",
    "\n",
    "1. if we choose lesser k that will imply that we are loosing variance but improving speed (as lesser number of components are there for computation)"
   ]
  },
  {
   "cell_type": "code",
   "execution_count": 3,
   "metadata": {
    "collapsed": true
   },
   "outputs": [],
   "source": [
    "import numpy as np\n",
    "from sklearn import decomposition,datasets\n",
    "from sklearn import preprocessing\n",
    "from sklearn.model_selection import train_test_split"
   ]
  },
  {
   "cell_type": "code",
   "execution_count": 5,
   "metadata": {
    "collapsed": true
   },
   "outputs": [],
   "source": [
    "b = datasets.load_breast_cancer()\n",
    "\n",
    "x = b.data\n",
    "y = b.target"
   ]
  },
  {
   "cell_type": "code",
   "execution_count": 6,
   "metadata": {
    "collapsed": true
   },
   "outputs": [],
   "source": [
    "sc = preprocessing.StandardScaler()\n",
    "x1 = sc.fit_transform(x)"
   ]
  },
  {
   "cell_type": "code",
   "execution_count": 8,
   "metadata": {
    "collapsed": true
   },
   "outputs": [],
   "source": [
    "x_train, x_test, y_train, y_test = train_test_split(x1,y,test_size=0.30,random_state = 1)"
   ]
  },
  {
   "cell_type": "code",
   "execution_count": 10,
   "metadata": {
    "collapsed": true
   },
   "outputs": [],
   "source": [
    "pca = decomposition.PCA()\n",
    "x_train_pca = pca.fit_transform(x_train)"
   ]
  },
  {
   "cell_type": "code",
   "execution_count": 14,
   "metadata": {},
   "outputs": [
    {
     "name": "stdout",
     "output_type": "stream",
     "text": [
      "Keeping variance = 99% of total variance , dimensions needed : 17\n",
      "Keeping variance = 93% of total variance , dimensions needed : 9\n"
     ]
    }
   ],
   "source": [
    "k = 0\n",
    "total_variance = pca.explained_variance_.sum()\n",
    "var_till_now = 0;\n",
    "\n",
    "while (var_till_now/total_variance) < 0.99 :\n",
    "    var_till_now += pca.explained_variance_[k]\n",
    "    k = k + 1\n",
    "    \n",
    "print(\"Keeping variance = 99% of total variance , dimensions needed :\",k)\n",
    "\n",
    "k = 0;\n",
    "var_till_now = 0;\n",
    "\n",
    "while (var_till_now/total_variance) < 0.93 :\n",
    "    var_till_now += pca.explained_variance_[k]\n",
    "    k = k + 1\n",
    "    \n",
    "print(\"Keeping variance = 93% of total variance , dimensions needed :\",k)"
   ]
  }
 ],
 "metadata": {
  "kernelspec": {
   "display_name": "Python 3",
   "language": "python",
   "name": "python3"
  },
  "language_info": {
   "codemirror_mode": {
    "name": "ipython",
    "version": 3
   },
   "file_extension": ".py",
   "mimetype": "text/x-python",
   "name": "python",
   "nbconvert_exporter": "python",
   "pygments_lexer": "ipython3",
   "version": "3.6.3"
  }
 },
 "nbformat": 4,
 "nbformat_minor": 2
}
