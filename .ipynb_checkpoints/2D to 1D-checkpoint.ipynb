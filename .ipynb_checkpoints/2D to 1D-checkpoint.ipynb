{
 "cells": [
  {
   "cell_type": "code",
   "execution_count": 1,
   "metadata": {
    "collapsed": true
   },
   "outputs": [],
   "source": [
    "import matplotlib.pyplot as plt\n",
    "from sklearn.decomposition import PCA\n",
    "import numpy as np"
   ]
  },
  {
   "cell_type": "code",
   "execution_count": 2,
   "metadata": {
    "collapsed": true
   },
   "outputs": [],
   "source": [
    "x = np.array([1,2,3,4,5,6,7,8])\n",
    "y = np.array([6,7.5,11,15,16,18,20,26])"
   ]
  },
  {
   "cell_type": "code",
   "execution_count": 3,
   "metadata": {},
   "outputs": [
    {
     "data": {
      "image/png": "[encoded data removed]",
      "text/plain": [
       "<matplotlib.figure.Figure at 0x7f59505a57b8>"
      ]
     },
     "metadata": {},
     "output_type": "display_data"
    }
   ],
   "source": [
    "plt.scatter(x,y)\n",
    "plt.show()"
   ]
  },
  {
   "cell_type": "code",
   "execution_count": 4,
   "metadata": {},
   "outputs": [
    {
     "data": {
      "text/plain": [
       "array([[  1. ,   6. ],\n",
       "       [  2. ,   7.5],\n",
       "       [  3. ,  11. ],\n",
       "       [  4. ,  15. ],\n",
       "       [  5. ,  16. ],\n",
       "       [  6. ,  18. ],\n",
       "       [  7. ,  20. ],\n",
       "       [  8. ,  26. ]])"
      ]
     },
     "execution_count": 4,
     "metadata": {},
     "output_type": "execute_result"
    }
   ],
   "source": [
    "X = np.c_[x,y] # combine all features, convert into 2D array\n",
    "X"
   ]
  },
  {
   "cell_type": "markdown",
   "metadata": {},
   "source": [
    "Converting to pca values without changing dimensions :"
   ]
  },
  {
   "cell_type": "code",
   "execution_count": 5,
   "metadata": {},
   "outputs": [
    {
     "data": {
      "text/plain": [
       "array([[ -9.59564338,  -0.22920373],\n",
       "       [ -7.84395476,   0.19692648],\n",
       "       [ -4.21308881,  -0.06155457],\n",
       "       [ -0.11242852,  -0.49118843],\n",
       "       [  1.16946577,   0.1060946 ],\n",
       "       [  3.39094873,   0.361072  ],\n",
       "       [  5.61243168,   0.61604939],\n",
       "       [ 11.59226929,  -0.49819573]])"
      ]
     },
     "execution_count": 5,
     "metadata": {},
     "output_type": "execute_result"
    }
   ],
   "source": [
    "pca = PCA()\n",
    "X_transformed = pca.fit_transform(X)\n",
    "X_transformed # notice that 1st column entities are much larger then the 2nd column"
   ]
  },
  {
   "cell_type": "code",
   "execution_count": 6,
   "metadata": {},
   "outputs": [
    {
     "data": {
      "text/plain": [
       "array([[ 0.34230563,  0.93958866],\n",
       "       [ 0.93958866, -0.34230563]])"
      ]
     },
     "execution_count": 6,
     "metadata": {},
     "output_type": "execute_result"
    }
   ],
   "source": [
    "pca.components_ # Gives two unit vectors (directions)"
   ]
  },
  {
   "cell_type": "code",
   "execution_count": 7,
   "metadata": {},
   "outputs": [
    {
     "data": {
      "text/plain": [
       "array([[  1. ,   6. ],\n",
       "       [  2. ,   7.5],\n",
       "       [  3. ,  11. ],\n",
       "       [  4. ,  15. ],\n",
       "       [  5. ,  16. ],\n",
       "       [  6. ,  18. ],\n",
       "       [  7. ,  20. ],\n",
       "       [  8. ,  26. ]])"
      ]
     },
     "execution_count": 7,
     "metadata": {},
     "output_type": "execute_result"
    }
   ],
   "source": [
    "X_approx = pca.inverse_transform(X_transformed)\n",
    "X_approx\n",
    "\n",
    "# because we kept number of components same (2D) , We didnot loose any data."
   ]
  },
  {
   "cell_type": "code",
   "execution_count": 8,
   "metadata": {},
   "outputs": [
    {
     "data": {
      "image/png": "[encoded data removed]",
      "text/plain": [
       "<matplotlib.figure.Figure at 0x7f5928106048>"
      ]
     },
     "metadata": {},
     "output_type": "display_data"
    }
   ],
   "source": [
    "# plotting reverse transformed values  Note: Same as initial plot\n",
    "\n",
    "plt.scatter(X_approx[:,0],X_approx[:,1])\n",
    "plt.plot(X_approx[:,0],X_approx[:,1],c='red')\n",
    "plt.show()"
   ]
  },
  {
   "cell_type": "markdown",
   "metadata": {},
   "source": [
    "Changing dimension to 1D :\n"
   ]
  },
  {
   "cell_type": "code",
   "execution_count": 9,
   "metadata": {},
   "outputs": [
    {
     "data": {
      "text/plain": [
       "array([[ -9.59564338],\n",
       "       [ -7.84395476],\n",
       "       [ -4.21308881],\n",
       "       [ -0.11242852],\n",
       "       [  1.16946577],\n",
       "       [  3.39094873],\n",
       "       [  5.61243168],\n",
       "       [ 11.59226929]])"
      ]
     },
     "execution_count": 9,
     "metadata": {},
     "output_type": "execute_result"
    }
   ],
   "source": [
    "pca1 = PCA(n_components = 1)\n",
    "X_transformed1 = pca1.fit_transform(X)\n",
    "X_transformed1"
   ]
  },
  {
   "cell_type": "code",
   "execution_count": 10,
   "metadata": {},
   "outputs": [
    {
     "data": {
      "text/plain": [
       "array([[ 0.34230563,  0.93958866]])"
      ]
     },
     "execution_count": 10,
     "metadata": {},
     "output_type": "execute_result"
    }
   ],
   "source": [
    "pca1.components_"
   ]
  },
  {
   "cell_type": "code",
   "execution_count": 11,
   "metadata": {},
   "outputs": [
    {
     "data": {
      "text/plain": [
       "array([[  1.21535723,   5.92154227],\n",
       "       [  1.81497011,   7.56740904],\n",
       "       [  3.05783597,  10.97892952],\n",
       "       [  4.46151508,  14.83186343],\n",
       "       [  4.90031472,  16.03631678],\n",
       "       [  5.66074085,  18.12359698],\n",
       "       [  6.42116697,  20.21087718],\n",
       "       [  8.46809906,  25.82946479]])"
      ]
     },
     "execution_count": 11,
     "metadata": {},
     "output_type": "execute_result"
    }
   ],
   "source": [
    "# Getting our values back\n",
    "\n",
    "X_approx1 = pca1.inverse_transform(X_transformed1)\n",
    "X_approx1\n",
    "\n",
    "# Notice that values are almost same but not exactly same .We did loose some data."
   ]
  },
  {
   "cell_type": "code",
   "execution_count": 13,
   "metadata": {},
   "outputs": [
    {
     "data": {
      "image/png": "[encoded data removed]",
      "text/plain": [
       "<matplotlib.figure.Figure at 0x7f591ff99e10>"
      ]
     },
     "metadata": {},
     "output_type": "display_data"
    }
   ],
   "source": [
    "# Plotting the values after reverse transform\n",
    "\n",
    "plt.scatter(X_approx1[:,0],X_approx1[:,1])\n",
    "plt.plot(X_approx1[:,0],X_approx1[:,1],c='red')\n",
    "plt.show()"
   ]
  },
  {
   "cell_type": "markdown",
   "metadata": {},
   "source": [
    "# It can be seen as the reverse transformed data lie on single line. (1 D)"
   ]
  }
 ],
 "metadata": {
  "kernelspec": {
   "display_name": "Python 3",
   "language": "python",
   "name": "python3"
  },
  "language_info": {
   "codemirror_mode": {
    "name": "ipython",
    "version": 3
   },
   "file_extension": ".py",
   "mimetype": "text/x-python",
   "name": "python",
   "nbconvert_exporter": "python",
   "pygments_lexer": "ipython3",
   "version": "3.6.3"
  }
 },
 "nbformat": 4,
 "nbformat_minor": 2
}
