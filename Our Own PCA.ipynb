{
 "cells": [
  {
   "cell_type": "code",
   "execution_count": 2,
   "metadata": {
    "collapsed": true
   },
   "outputs": [],
   "source": [
    "from sklearn.decomposition import PCA\n",
    "import numpy as np\n",
    "import matplotlib.pyplot as plt\n",
    "from mpl_toolkits.mplot3d import Axes3D , proj3d"
   ]
  },
  {
   "cell_type": "code",
   "execution_count": 3,
   "metadata": {
    "collapsed": true
   },
   "outputs": [],
   "source": [
    "np.random.seed(2343243)"
   ]
  },
  {
   "cell_type": "code",
   "execution_count": 6,
   "metadata": {},
   "outputs": [
    {
     "data": {
      "text/plain": [
       "(100, 3)"
      ]
     },
     "execution_count": 6,
     "metadata": {},
     "output_type": "execute_result"
    }
   ],
   "source": [
    "mean1 = np.array([1,1,1])\n",
    "cov1 = np.array([[1,0,0],[0,1,0],[0,0,1]])\n",
    "                 \n",
    "class1 = np.random.multivariate_normal(mean1,cov1,100)\n",
    "class1.shape"
   ]
  },
  {
   "cell_type": "markdown",
   "metadata": {},
   "source": [
    "Firstly Applying inbuilt one to check results of our implementation:"
   ]
  },
  {
   "cell_type": "code",
   "execution_count": 9,
   "metadata": {},
   "outputs": [],
   "source": [
    "pca = PCA(n_components = 2)\n",
    "class_trans = pca.fit_transform(class1)"
   ]
  },
  {
   "cell_type": "code",
   "execution_count": 10,
   "metadata": {},
   "outputs": [
    {
     "data": {
      "text/plain": [
       "array([[-0.25581305,  0.64160172,  0.72312303],\n",
       "       [ 0.35022262, -0.63569298,  0.68792336]])"
      ]
     },
     "execution_count": 10,
     "metadata": {},
     "output_type": "execute_result"
    }
   ],
   "source": [
    "pca.components_"
   ]
  },
  {
   "cell_type": "code",
   "execution_count": 12,
   "metadata": {},
   "outputs": [
    {
     "data": {
      "text/plain": [
       "array([ 1.38489552,  0.87683765])"
      ]
     },
     "execution_count": 12,
     "metadata": {},
     "output_type": "execute_result"
    }
   ],
   "source": [
    "pca.explained_variance_"
   ]
  },
  {
   "cell_type": "markdown",
   "metadata": {},
   "source": [
    "# Implementing our own PCA\n",
    "\n",
    "1. step 1: build a covariance matrix. For n features , it will be n * n\n",
    "2. step 2: a)Singular Value Decomposition , finding Eigen Vectors(directions) and Eigen Values(variance values)\n",
    "2. step 2: b) Sorting eigen vectors on basis of eigen values"
   ]
  },
  {
   "cell_type": "code",
   "execution_count": 15,
   "metadata": {},
   "outputs": [
    {
     "name": "stdout",
     "output_type": "stream",
     "text": [
      "(3, 3)\n"
     ]
    },
    {
     "data": {
      "text/plain": [
       "array([[ 0.73827272, -0.16523334, -0.08214447],\n",
       "       [-0.16523334,  1.04699247,  0.24135635],\n",
       "       [-0.08214447,  0.24135635,  1.14168894]])"
      ]
     },
     "execution_count": 15,
     "metadata": {},
     "output_type": "execute_result"
    }
   ],
   "source": [
    "# step 1\n",
    "\n",
    "class1_t = class1.T\n",
    "cov_matrix = np.cov(class1_t)\n",
    "print(cov_matrix.shape)\n",
    "cov_matrix"
   ]
  },
  {
   "cell_type": "code",
   "execution_count": 21,
   "metadata": {},
   "outputs": [
    {
     "name": "stdout",
     "output_type": "stream",
     "text": [
      "[ 1.38489552  0.66522095  0.87683765]\n",
      "[[-0.25581305  0.90105704  0.35022262]\n",
      " [ 0.64160172  0.42923382 -0.63569298]\n",
      " [ 0.72312303 -0.06208487  0.68792336]]\n"
     ]
    }
   ],
   "source": [
    "# step 2 a\n",
    "eigen_values, eigen_vectors = np.linalg.eig(cov_matrix)\n",
    "print(eigen_values)\n",
    "print(eigen_vectors) # Note that directions are given column wise \n",
    "# that is , eigen value 1.38 corresponds to vector -0.25 0.64 0.72"
   ]
  },
  {
   "cell_type": "code",
   "execution_count": 25,
   "metadata": {},
   "outputs": [
    {
     "name": "stdout",
     "output_type": "stream",
     "text": [
      "[[1.3848955218163801, array([-0.25581305,  0.64160172,  0.72312303])], [0.66522094919918617, array([ 0.90105704,  0.42923382, -0.06208487])], [0.87683765273056302, array([ 0.35022262, -0.63569298,  0.68792336])]]\n"
     ]
    }
   ],
   "source": [
    "# Step 2 b\n",
    "eigen = []\n",
    "i = 0;\n",
    "l = len(eigen_values)\n",
    "\n",
    "while i<l:\n",
    "    current_eigen = [eigen_values[i],eigen_vectors[:,i]]\n",
    "    eigen.append(current_eigen)\n",
    "    i += 1\n",
    "    \n",
    "print(eigen)"
   ]
  },
  {
   "cell_type": "code",
   "execution_count": 27,
   "metadata": {},
   "outputs": [
    {
     "data": {
      "text/plain": [
       "[[1.3848955218163801, array([-0.25581305,  0.64160172,  0.72312303])],\n",
       " [0.87683765273056302, array([ 0.35022262, -0.63569298,  0.68792336])],\n",
       " [0.66522094919918617, array([ 0.90105704,  0.42923382, -0.06208487])]]"
      ]
     },
     "execution_count": 27,
     "metadata": {},
     "output_type": "execute_result"
    }
   ],
   "source": [
    "# Step 2 b\n",
    "eigen.sort(reverse=True)\n",
    "eigen"
   ]
  },
  {
   "cell_type": "markdown",
   "metadata": {},
   "source": [
    "Note the top two: explained variance values and components values are same as inbuilt one"
   ]
  },
  {
   "cell_type": "code",
   "execution_count": 30,
   "metadata": {},
   "outputs": [
    {
     "name": "stdout",
     "output_type": "stream",
     "text": [
      "[ 1.38489552  0.87683765]\n",
      "\n",
      "[[-0.25581305  0.64160172  0.72312303]\n",
      " [ 0.35022262 -0.63569298  0.68792336]]\n"
     ]
    }
   ],
   "source": [
    "print(pca.explained_variance_)\n",
    "print()\n",
    "print(pca.components_)"
   ]
  }
 ],
 "metadata": {
  "kernelspec": {
   "display_name": "Python 3",
   "language": "python",
   "name": "python3"
  },
  "language_info": {
   "codemirror_mode": {
    "name": "ipython",
    "version": 3
   },
   "file_extension": ".py",
   "mimetype": "text/x-python",
   "name": "python",
   "nbconvert_exporter": "python",
   "pygments_lexer": "ipython3",
   "version": "3.6.3"
  }
 },
 "nbformat": 4,
 "nbformat_minor": 2
}
